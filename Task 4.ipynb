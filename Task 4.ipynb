{
 "cells": [
  {
   "cell_type": "code",
   "execution_count": 24,
   "metadata": {},
   "outputs": [
    {
     "name": "stdout",
     "output_type": "stream",
     "text": [
      "12\n",
      "112\n"
     ]
    }
   ],
   "source": [
    "s = str('''... Живите так,\n",
    "Как вас ведет звезда,\n",
    "Под кущей обновленной сени.\n",
    "С приветствием,\n",
    "Вас помнящий всегда\n",
    "Знакомый Ваш\n",
    "Сергей Есенин.''')\n",
    "\n",
    "x = s.count('а')\n",
    "\n",
    "if x==1:\n",
    "    q = s.find('а')\n",
    "    print(q)\n",
    "    \n",
    "elif x>1:\n",
    "    q = s.find('а')\n",
    "    t = s.rfind('а')\n",
    "    print(q)\n",
    "    print(t)\n",
    "    \n",
    "else:\n",
    "    print(False)"
   ]
  },
  {
   "cell_type": "code",
   "execution_count": null,
   "metadata": {},
   "outputs": [],
   "source": []
  }
 ],
 "metadata": {
  "kernelspec": {
   "display_name": "Python 3",
   "language": "python",
   "name": "python3"
  },
  "language_info": {
   "codemirror_mode": {
    "name": "ipython",
    "version": 3
   },
   "file_extension": ".py",
   "mimetype": "text/x-python",
   "name": "python",
   "nbconvert_exporter": "python",
   "pygments_lexer": "ipython3",
   "version": "3.8.2"
  }
 },
 "nbformat": 4,
 "nbformat_minor": 4
}
