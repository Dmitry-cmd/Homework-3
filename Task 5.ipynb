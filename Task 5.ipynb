{
 "cells": [
  {
   "cell_type": "code",
   "execution_count": 4,
   "metadata": {},
   "outputs": [
    {
     "name": "stdout",
     "output_type": "stream",
     "text": [
      "Enter the price: 2.40\n",
      "2.4 $\n",
      "4.8 $\n",
      "7.2 $\n",
      "9.6 $\n",
      "12.0 $\n",
      "14.4 $\n",
      "16.8 $\n",
      "19.2 $\n",
      "21.6 $\n",
      "24.0 $\n"
     ]
    }
   ],
   "source": [
    "x = float(input('Enter the price: '))\n",
    "for i in range(1,11):\n",
    "    z = (x * i)\n",
    "    c = round(z,2)\n",
    "    print(c, '$')"
   ]
  },
  {
   "cell_type": "code",
   "execution_count": 5,
   "metadata": {},
   "outputs": [
    {
     "name": "stdout",
     "output_type": "stream",
     "text": [
      "Enter the price: 2.40\n",
      "2.4 $\n",
      "4.8 $\n",
      "7.2 $\n",
      "9.6 $\n",
      "12.0 $\n",
      "14.4 $\n",
      "16.8 $\n",
      "19.2 $\n",
      "21.6 $\n",
      "24.0 $\n"
     ]
    }
   ],
   "source": [
    "x = float(input('Enter the price: '))\n",
    "i = 0\n",
    "while i<10:\n",
    "    i = i + 1\n",
    "    z = x * i\n",
    "    c = round(z,2)\n",
    "    print(c, '$')"
   ]
  },
  {
   "cell_type": "code",
   "execution_count": null,
   "metadata": {},
   "outputs": [],
   "source": []
  }
 ],
 "metadata": {
  "kernelspec": {
   "display_name": "Python 3",
   "language": "python",
   "name": "python3"
  }
 },
 "nbformat": 4,
 "nbformat_minor": 4
}
