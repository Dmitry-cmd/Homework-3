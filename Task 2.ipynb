{
 "cells": [
  {
   "cell_type": "code",
   "execution_count": 2,
   "metadata": {},
   "outputs": [
    {
     "name": "stdout",
     "output_type": "stream",
     "text": [
      "Enter a first number: 3\n",
      "Enter a second number: 4\n",
      "7\n",
      "7\n"
     ]
    }
   ],
   "source": [
    "x = int(input('Enter a first number: '))\n",
    "y = int(input('Enter a second number: '))\n",
    "if x==y:\n",
    "    x = 0\n",
    "    y = 0\n",
    "    print(x)\n",
    "    print(y)\n",
    "else:\n",
    "    x1 = x\n",
    "    x = (x + y)\n",
    "    y = (x1 + y)\n",
    "    \n",
    "    print(x)\n",
    "    print(y)"
   ]
  },
  {
   "cell_type": "code",
   "execution_count": null,
   "metadata": {},
   "outputs": [],
   "source": []
  }
 ],
 "metadata": {
  "kernelspec": {
   "display_name": "Python 3",
   "language": "python",
   "name": "python3"
  },
  "language_info": {
   "codemirror_mode": {
    "name": "ipython",
    "version": 3
   },
   "file_extension": ".py",
   "mimetype": "text/x-python",
   "name": "python",
   "nbconvert_exporter": "python",
   "pygments_lexer": "ipython3",
   "version": "3.8.2"
  }
 },
 "nbformat": 4,
 "nbformat_minor": 4
}
