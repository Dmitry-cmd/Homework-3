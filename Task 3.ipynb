{
 "cells": [
  {
   "cell_type": "code",
   "execution_count": 9,
   "metadata": {},
   "outputs": [
    {
     "name": "stdout",
     "output_type": "stream",
     "text": [
      "Enter first number: -7\n",
      "Enter second number: 0\n",
      "Enter third number: 9\n",
      "Result is: 9\n"
     ]
    }
   ],
   "source": [
    "x = int(input('Enter first number: '))\n",
    "y = int(input('Enter second number: '))\n",
    "c = int(input('Enter third number: '))\n",
    "if x>y>c:\n",
    "    s1 = (x + y)\n",
    "    print('Result is:', s1)\n",
    "else:\n",
    "    print('Result is:', c + y)"
   ]
  }
 ],
 "metadata": {
  "kernelspec": {
   "display_name": "Python 3",
   "language": "python",
   "name": "python3"
  },
  "language_info": {
   "codemirror_mode": {
    "name": "ipython",
    "version": 3
   },
   "file_extension": ".py",
   "mimetype": "text/x-python",
   "name": "python",
   "nbconvert_exporter": "python",
   "pygments_lexer": "ipython3",
   "version": "3.8.2"
  }
 },
 "nbformat": 4,
 "nbformat_minor": 4
}
